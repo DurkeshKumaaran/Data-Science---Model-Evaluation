{
 "cells": [
  {
   "cell_type": "code",
   "execution_count": 14,
   "metadata": {},
   "outputs": [],
   "source": [
    "#Import Packages\n",
    "\n",
    "import pandas as pd\n",
    "\n",
    "import numpy as np\n",
    "\n",
    "from sklearn.linear_model import LinearRegression\n",
    "\n",
    "from sklearn.metrics import r2_score\n",
    "\n",
    "from sklearn.model_selection import train_test_split\n",
    "\n",
    "import seaborn as sns\n",
    "\n",
    "import matplotlib.pyplot as plt\n",
    "%matplotlib inline\n"
   ]
  },
  {
   "cell_type": "code",
   "execution_count": 2,
   "metadata": {},
   "outputs": [
    {
     "name": "stdout",
     "output_type": "stream",
     "text": [
      "--2020-12-15 09:55:07--  https://cf-courses-data.s3.us.cloud-object-storage.appdomain.cloud/IBMDeveloperSkillsNetwork-ML0101EN-SkillsNetwork/labs/Module%202/data/FuelConsumptionCo2.csv\n",
      "Resolving cf-courses-data.s3.us.cloud-object-storage.appdomain.cloud (cf-courses-data.s3.us.cloud-object-storage.appdomain.cloud)... 169.63.118.104\n",
      "Connecting to cf-courses-data.s3.us.cloud-object-storage.appdomain.cloud (cf-courses-data.s3.us.cloud-object-storage.appdomain.cloud)|169.63.118.104|:443... connected.\n",
      "HTTP request sent, awaiting response... 200 OK\n",
      "Length: 72629 (71K) [text/csv]\n",
      "Saving to: ‘FuelConsumption.csv’\n",
      "\n",
      "FuelConsumption.csv 100%[===================>]  70.93K  55.0KB/s    in 1.3s    \n",
      "\n",
      "2020-12-15 09:55:11 (55.0 KB/s) - ‘FuelConsumption.csv’ saved [72629/72629]\n",
      "\n"
     ]
    }
   ],
   "source": [
    "#Import the dataset\n",
    "\n",
    "!wget -O FuelConsumption.csv https://cf-courses-data.s3.us.cloud-object-storage.appdomain.cloud/IBMDeveloperSkillsNetwork-ML0101EN-SkillsNetwork/labs/Module%202/data/FuelConsumptionCo2.csv\n"
   ]
  },
  {
   "cell_type": "code",
   "execution_count": 8,
   "metadata": {
    "scrolled": true
   },
   "outputs": [
    {
     "data": {
      "text/html": [
       "<div>\n",
       "<style scoped>\n",
       "    .dataframe tbody tr th:only-of-type {\n",
       "        vertical-align: middle;\n",
       "    }\n",
       "\n",
       "    .dataframe tbody tr th {\n",
       "        vertical-align: top;\n",
       "    }\n",
       "\n",
       "    .dataframe thead th {\n",
       "        text-align: right;\n",
       "    }\n",
       "</style>\n",
       "<table border=\"1\" class=\"dataframe\">\n",
       "  <thead>\n",
       "    <tr style=\"text-align: right;\">\n",
       "      <th></th>\n",
       "      <th>MODELYEAR</th>\n",
       "      <th>MAKE</th>\n",
       "      <th>MODEL</th>\n",
       "      <th>VEHICLECLASS</th>\n",
       "      <th>ENGINESIZE</th>\n",
       "      <th>CYLINDERS</th>\n",
       "      <th>TRANSMISSION</th>\n",
       "      <th>FUELTYPE</th>\n",
       "      <th>FUELCONSUMPTION_CITY</th>\n",
       "      <th>FUELCONSUMPTION_HWY</th>\n",
       "      <th>FUELCONSUMPTION_COMB</th>\n",
       "      <th>FUELCONSUMPTION_COMB_MPG</th>\n",
       "      <th>CO2EMISSIONS</th>\n",
       "    </tr>\n",
       "  </thead>\n",
       "  <tbody>\n",
       "    <tr>\n",
       "      <th>0</th>\n",
       "      <td>2014</td>\n",
       "      <td>ACURA</td>\n",
       "      <td>ILX</td>\n",
       "      <td>COMPACT</td>\n",
       "      <td>2.0</td>\n",
       "      <td>4</td>\n",
       "      <td>AS5</td>\n",
       "      <td>Z</td>\n",
       "      <td>9.9</td>\n",
       "      <td>6.7</td>\n",
       "      <td>8.5</td>\n",
       "      <td>33</td>\n",
       "      <td>196</td>\n",
       "    </tr>\n",
       "    <tr>\n",
       "      <th>1</th>\n",
       "      <td>2014</td>\n",
       "      <td>ACURA</td>\n",
       "      <td>ILX</td>\n",
       "      <td>COMPACT</td>\n",
       "      <td>2.4</td>\n",
       "      <td>4</td>\n",
       "      <td>M6</td>\n",
       "      <td>Z</td>\n",
       "      <td>11.2</td>\n",
       "      <td>7.7</td>\n",
       "      <td>9.6</td>\n",
       "      <td>29</td>\n",
       "      <td>221</td>\n",
       "    </tr>\n",
       "    <tr>\n",
       "      <th>2</th>\n",
       "      <td>2014</td>\n",
       "      <td>ACURA</td>\n",
       "      <td>ILX HYBRID</td>\n",
       "      <td>COMPACT</td>\n",
       "      <td>1.5</td>\n",
       "      <td>4</td>\n",
       "      <td>AV7</td>\n",
       "      <td>Z</td>\n",
       "      <td>6.0</td>\n",
       "      <td>5.8</td>\n",
       "      <td>5.9</td>\n",
       "      <td>48</td>\n",
       "      <td>136</td>\n",
       "    </tr>\n",
       "    <tr>\n",
       "      <th>3</th>\n",
       "      <td>2014</td>\n",
       "      <td>ACURA</td>\n",
       "      <td>MDX 4WD</td>\n",
       "      <td>SUV - SMALL</td>\n",
       "      <td>3.5</td>\n",
       "      <td>6</td>\n",
       "      <td>AS6</td>\n",
       "      <td>Z</td>\n",
       "      <td>12.7</td>\n",
       "      <td>9.1</td>\n",
       "      <td>11.1</td>\n",
       "      <td>25</td>\n",
       "      <td>255</td>\n",
       "    </tr>\n",
       "    <tr>\n",
       "      <th>4</th>\n",
       "      <td>2014</td>\n",
       "      <td>ACURA</td>\n",
       "      <td>RDX AWD</td>\n",
       "      <td>SUV - SMALL</td>\n",
       "      <td>3.5</td>\n",
       "      <td>6</td>\n",
       "      <td>AS6</td>\n",
       "      <td>Z</td>\n",
       "      <td>12.1</td>\n",
       "      <td>8.7</td>\n",
       "      <td>10.6</td>\n",
       "      <td>27</td>\n",
       "      <td>244</td>\n",
       "    </tr>\n",
       "  </tbody>\n",
       "</table>\n",
       "</div>"
      ],
      "text/plain": [
       "   MODELYEAR   MAKE       MODEL VEHICLECLASS  ENGINESIZE  CYLINDERS  \\\n",
       "0       2014  ACURA         ILX      COMPACT         2.0          4   \n",
       "1       2014  ACURA         ILX      COMPACT         2.4          4   \n",
       "2       2014  ACURA  ILX HYBRID      COMPACT         1.5          4   \n",
       "3       2014  ACURA     MDX 4WD  SUV - SMALL         3.5          6   \n",
       "4       2014  ACURA     RDX AWD  SUV - SMALL         3.5          6   \n",
       "\n",
       "  TRANSMISSION FUELTYPE  FUELCONSUMPTION_CITY  FUELCONSUMPTION_HWY  \\\n",
       "0          AS5        Z                   9.9                  6.7   \n",
       "1           M6        Z                  11.2                  7.7   \n",
       "2          AV7        Z                   6.0                  5.8   \n",
       "3          AS6        Z                  12.7                  9.1   \n",
       "4          AS6        Z                  12.1                  8.7   \n",
       "\n",
       "   FUELCONSUMPTION_COMB  FUELCONSUMPTION_COMB_MPG  CO2EMISSIONS  \n",
       "0                   8.5                        33           196  \n",
       "1                   9.6                        29           221  \n",
       "2                   5.9                        48           136  \n",
       "3                  11.1                        25           255  \n",
       "4                  10.6                        27           244  "
      ]
     },
     "execution_count": 8,
     "metadata": {},
     "output_type": "execute_result"
    }
   ],
   "source": [
    "#Read the dataset\n",
    "\n",
    "df = pd.read_csv(\"FuelConsumption.csv\")\n",
    "\n",
    "df.head()"
   ]
  },
  {
   "cell_type": "code",
   "execution_count": 67,
   "metadata": {},
   "outputs": [
    {
     "data": {
      "image/png": "[encoded data removed]",
      "text/plain": [
       "<Figure size 432x288 with 1 Axes>"
      ]
     },
     "metadata": {
      "needs_background": "light"
     },
     "output_type": "display_data"
    }
   ],
   "source": [
    "#To find whether the data is Linear or Non Linear\n",
    "\n",
    "plt.scatter(df.ENGINESIZE,df.CO2EMISSIONS,color='red')\n",
    "plt.xlabel(\"Engine size\")\n",
    "plt.ylabel(\"Emission\")\n",
    "plt.show()"
   ]
  },
  {
   "cell_type": "code",
   "execution_count": 68,
   "metadata": {},
   "outputs": [
    {
     "data": {
      "text/plain": [
       "<AxesSubplot:xlabel='ENGINESIZE', ylabel='CO2EMISSIONS'>"
      ]
     },
     "execution_count": 68,
     "metadata": {},
     "output_type": "execute_result"
    },
    {
     "data": {
      "image/png": "[encoded data removed]",
      "text/plain": [
       "<Figure size 432x288 with 1 Axes>"
      ]
     },
     "metadata": {
      "needs_background": "light"
     },
     "output_type": "display_data"
    }
   ],
   "source": [
    "sns.regplot(x=\"ENGINESIZE\", y=\"CO2EMISSIONS\", data=df,color='green')"
   ]
  },
  {
   "cell_type": "code",
   "execution_count": 69,
   "metadata": {},
   "outputs": [
    {
     "data": {
      "text/plain": [
       "<AxesSubplot:xlabel='ENGINESIZE', ylabel='CO2EMISSIONS'>"
      ]
     },
     "execution_count": 69,
     "metadata": {},
     "output_type": "execute_result"
    },
    {
     "data": {
      "image/png": "[encoded data removed]",
      "text/plain": [
       "<Figure size 432x288 with 1 Axes>"
      ]
     },
     "metadata": {
      "needs_background": "light"
     },
     "output_type": "display_data"
    }
   ],
   "source": [
    "sns.residplot(x=\"ENGINESIZE\", y=\"CO2EMISSIONS\", data=df,color='violet')"
   ]
  },
  {
   "cell_type": "code",
   "execution_count": 7,
   "metadata": {},
   "outputs": [
    {
     "data": {
      "text/plain": [
       "array([[203.55449907]])"
      ]
     },
     "execution_count": 7,
     "metadata": {},
     "output_type": "execute_result"
    }
   ],
   "source": [
    "#Simple Linear Regression\n",
    "\n",
    "lm=LinearRegression()\n",
    "\n",
    "x=df[['ENGINESIZE']]\n",
    "y=df[['CO2EMISSIONS']]\n",
    "\n",
    "lm.fit(x,y)\n",
    "\n",
    "z=lm.predict(x)\n",
    "\n",
    "emission=lm.intercept_+(lm.coef_)*2.0\n",
    "\n",
    "emission"
   ]
  },
  {
   "cell_type": "code",
   "execution_count": 13,
   "metadata": {},
   "outputs": [
    {
     "name": "stdout",
     "output_type": "stream",
     "text": [
      "76.41458597854816 %\n"
     ]
    }
   ],
   "source": [
    "#Find the accuracy\n",
    "\n",
    "print(r2_score(y,z)*100,\"%\")"
   ]
  },
  {
   "cell_type": "code",
   "execution_count": 12,
   "metadata": {},
   "outputs": [
    {
     "data": {
      "text/plain": [
       "array([218.36557209, 250.03052704, 220.75865889, 191.20094949,\n",
       "       272.64915142, 187.41050655, 181.34870639, 202.82541925,\n",
       "       210.9273691 , 327.59066333, 193.86552867, 342.78124682,\n",
       "       340.63015277, 189.44477058, 307.46519493, 244.33673166,\n",
       "       314.31933724, 181.09326175, 182.80914323, 322.93974918,\n",
       "       187.40125314, 169.87133875, 315.48305195, 192.36816216,\n",
       "       187.40125314, 307.46519493, 260.47012719, 212.44744749,\n",
       "       204.75631774, 369.84915542, 198.61392272, 204.64460747,\n",
       "       226.42974238, 198.29883654, 350.97738018, 316.46286506,\n",
       "       182.71838628, 304.69479112, 241.55714584, 297.90123956,\n",
       "       276.68922474, 215.96898733, 201.85485956, 396.6079223 ,\n",
       "       231.32421797, 197.20640448, 205.16223227, 209.39300153,\n",
       "       250.62376973, 226.40199474, 259.43655819, 258.98453197,\n",
       "       309.5290057 , 267.1427556 , 321.21563489, 196.37957915,\n",
       "       255.9863598 , 212.84319992, 301.00667484, 288.59671606,\n",
       "       208.9216312 , 217.1673154 , 182.18478513, 185.26109309,\n",
       "       215.66069548, 298.13223293, 254.14867734, 435.01031405,\n",
       "       198.02734417, 252.18666344, 289.14966133, 255.24699504,\n",
       "       177.72036185, 191.05482744, 199.67769845, 179.62364288,\n",
       "       379.58868594, 339.7210454 , 307.42914308, 203.72113954,\n",
       "       228.19835917, 195.58141015, 254.36719231, 216.49670283,\n",
       "       245.95597054, 206.27302837, 313.3428919 , 380.78603394,\n",
       "       247.80290641, 205.24373582, 194.00583647, 295.4046753 ,\n",
       "       196.68877969, 402.51308429, 262.12048148, 214.82119017,\n",
       "       181.68818503, 182.27217432, 193.86552867, 200.34235399,\n",
       "       272.60885398, 351.48562138, 307.25779126, 246.32403413,\n",
       "       339.7210454 , 328.71756598, 176.86501038, 215.31112613,\n",
       "       214.67170035, 199.03827268, 187.57260495, 290.07222058,\n",
       "       204.15130376, 248.95743909, 246.4021825 , 302.18061045,\n",
       "       254.7133939 , 257.90807626, 174.52897585, 208.57206184,\n",
       "       202.87826647, 200.17100217, 279.97466406, 215.06486351,\n",
       "       194.95453416, 358.55581958, 386.5061202 , 185.75089885,\n",
       "       240.70838712, 215.38590673, 204.07652315, 254.14867734,\n",
       "       229.18158056, 203.30604299, 386.5061202 , 271.36693211,\n",
       "       198.53571555, 248.42726451, 222.11817668, 255.33095767,\n",
       "       252.68242623, 198.02734417, 339.91762698, 295.4046753 ,\n",
       "       254.14867734, 179.56729771, 311.23798093, 300.5799372 ,\n",
       "       374.3655538 , 349.43375921, 311.81104222, 217.01432763,\n",
       "       315.04951997, 240.84293946, 244.38382342, 244.44935062,\n",
       "       285.23150089, 345.21206006, 217.1673154 , 199.39365629,\n",
       "       308.91637836, 276.21526514, 370.83815055, 214.78082135,\n",
       "       193.74702407, 212.09787813, 300.59932184, 216.96148041,\n",
       "       193.85284869, 185.61984446, 274.59272988, 226.42974238,\n",
       "       195.37214859, 237.56997854, 185.68537166, 197.54672043,\n",
       "       351.48562138, 207.37723173, 203.53962563, 250.62376973,\n",
       "       333.63984232, 257.64596749, 189.44477058, 257.99553685,\n",
       "       192.36816216, 321.21563489, 328.59220825, 255.74948078,\n",
       "       212.95581887, 208.51571667, 286.59679242, 314.31933724,\n",
       "       231.96364374, 313.17735434, 186.5433124 , 248.95743909,\n",
       "       219.4856216 , 247.91889312, 257.2031233 , 235.95505663,\n",
       "       225.75331556, 258.53832002, 210.54079869, 288.96567006,\n",
       "       207.17715219, 307.59036367, 396.86084905, 306.95518348,\n",
       "       185.4013295 , 254.4327195 , 192.36816216, 275.39769322,\n",
       "       305.4098348 , 184.48711497])"
      ]
     },
     "execution_count": 12,
     "metadata": {},
     "output_type": "execute_result"
    }
   ],
   "source": [
    "#Using Train Test Split Method and MUltiple Linear Regression\n",
    "\n",
    "s=df[['ENGINESIZE','FUELCONSUMPTION_COMB','CYLINDERS','FUELCONSUMPTION_HWY','FUELCONSUMPTION_CITY']]\n",
    "y=df['CO2EMISSIONS']\n",
    "\n",
    "x_train, x_test, y_train, y_test = train_test_split(s, y, test_size=0.2)\n",
    "\n",
    "lm = LinearRegression()\n",
    "model = lm.fit(x_train, y_train)\n",
    "predictions = lm.predict(x_test)\n",
    "\n",
    "predictions\n"
   ]
  },
  {
   "cell_type": "code",
   "execution_count": 13,
   "metadata": {},
   "outputs": [
    {
     "name": "stdout",
     "output_type": "stream",
     "text": [
      "87.8251940981814 %\n"
     ]
    }
   ],
   "source": [
    "#Accuracy of the above model\n",
    "\n",
    "print(model.score(x_test,y_test)*100,\"%\")"
   ]
  },
  {
   "cell_type": "code",
   "execution_count": null,
   "metadata": {},
   "outputs": [],
   "source": []
  }
 ],
 "metadata": {
  "kernelspec": {
   "display_name": "Python 3",
   "language": "python",
   "name": "python3"
  },
  "language_info": {
   "codemirror_mode": {
    "name": "ipython",
    "version": 3
   },
   "file_extension": ".py",
   "mimetype": "text/x-python",
   "name": "python",
   "nbconvert_exporter": "python",
   "pygments_lexer": "ipython3",
   "version": "3.8.5"
  }
 },
 "nbformat": 4,
 "nbformat_minor": 4
}
